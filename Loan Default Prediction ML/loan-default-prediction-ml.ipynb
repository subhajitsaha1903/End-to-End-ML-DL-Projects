{
 "cells": [
  {
   "cell_type": "markdown",
   "id": "e4dd80fc",
   "metadata": {
    "_cell_guid": "b1076dfc-b9ad-4769-8c92-a6c4dae69d19",
    "_uuid": "8f2839f25d086af736a60e9eeb907d3b93b6e0e5",
    "execution": {
     "iopub.execute_input": "2023-05-17T02:02:22.217832Z",
     "iopub.status.busy": "2023-05-17T02:02:22.217132Z",
     "iopub.status.idle": "2023-05-17T02:02:22.237288Z",
     "shell.execute_reply": "2023-05-17T02:02:22.236384Z"
    },
    "papermill": {
     "duration": 0.030969,
     "end_time": "2023-05-17T02:02:22.239838",
     "exception": false,
     "start_time": "2023-05-17T02:02:22.208869",
     "status": "completed"
    },
    "tags": []
   },
   "source": [
    "# Loan Default Prediction using Machine Learning"
   ]
  },
  {
   "cell_type": "code",
   "execution_count": 1,
   "id": "50a5d45d",
   "metadata": {},
   "outputs": [],
   "source": [
    "import warnings\n",
    "warnings.filterwarnings('ignore')"
   ]
  },
  {
   "cell_type": "code",
   "execution_count": 2,
   "id": "b52f3515",
   "metadata": {},
   "outputs": [],
   "source": [
    "import numpy as np\n",
    "import pandas as pd"
   ]
  },
  {
   "cell_type": "markdown",
   "id": "cf3a7ec7",
   "metadata": {
    "papermill": {
     "duration": 0.00592,
     "end_time": "2023-05-17T02:02:22.252299",
     "exception": false,
     "start_time": "2023-05-17T02:02:22.246379",
     "status": "completed"
    },
    "tags": []
   },
   "source": [
    "# Data Preparation"
   ]
  },
  {
   "cell_type": "code",
   "execution_count": 3,
   "id": "b58f9c3e",
   "metadata": {
    "execution": {
     "iopub.execute_input": "2023-05-17T02:02:22.266920Z",
     "iopub.status.busy": "2023-05-17T02:02:22.266509Z",
     "iopub.status.idle": "2023-05-17T02:02:23.949095Z",
     "shell.execute_reply": "2023-05-17T02:02:23.947632Z"
    },
    "papermill": {
     "duration": 1.693039,
     "end_time": "2023-05-17T02:02:23.951759",
     "exception": false,
     "start_time": "2023-05-17T02:02:22.258720",
     "status": "completed"
    },
    "tags": []
   },
   "outputs": [],
   "source": [
    "from sklearn.model_selection import train_test_split\n",
    "from sklearn.impute import SimpleImputer\n",
    "from sklearn.preprocessing import StandardScaler\n",
    "\n",
    "\n",
    "# Load the dataset\n",
    "df = pd.read_csv(\"Default_Fin.csv\")\n",
    "\n",
    "# Handle Missing Values\n",
    "imputer = SimpleImputer(strategy=\"mean\")  # Use mean imputation\n",
    "df[\"Bank Balance\"] = imputer.fit_transform(df[[\"Bank Balance\"]])\n",
    "df[\"Annual Salary\"] = imputer.fit_transform(df[[\"Annual Salary\"]])\n",
    "\n",
    "# Handle Outliers (using manual winsorization)\n",
    "def winsorize_column(column, lower_limit, upper_limit):\n",
    "    p = np.percentile(column, [lower_limit, upper_limit])\n",
    "    column[column < p[0]] = p[0]\n",
    "    column[column > p[1]] = p[1]\n",
    "    return column\n",
    "\n",
    "df[\"Bank Balance\"] = winsorize_column(df[\"Bank Balance\"], 5, 95)\n",
    "df[\"Annual Salary\"] = winsorize_column(df[\"Annual Salary\"], 5, 95)\n",
    "\n",
    "# Format Conversion (if needed)\n",
    "# If any categorical variables need conversion, use appropriate encoding methods\n",
    "\n",
    "# Splitting Data\n",
    "X = df[[\"Employed\", \"Bank Balance\", \"Annual Salary\"]]  # Features\n",
    "y = df[\"Defaulted?\"]  # Target variable\n",
    "\n",
    "# Scaling or Normalization\n",
    "scaler = StandardScaler()\n",
    "X_scaled = scaler.fit_transform(X)"
   ]
  },
  {
   "cell_type": "code",
   "execution_count": 4,
   "id": "974f288f",
   "metadata": {
    "execution": {
     "iopub.execute_input": "2023-05-17T02:02:23.966718Z",
     "iopub.status.busy": "2023-05-17T02:02:23.966234Z",
     "iopub.status.idle": "2023-05-17T02:02:23.972508Z",
     "shell.execute_reply": "2023-05-17T02:02:23.971302Z"
    },
    "papermill": {
     "duration": 0.016785,
     "end_time": "2023-05-17T02:02:23.975023",
     "exception": false,
     "start_time": "2023-05-17T02:02:23.958238",
     "status": "completed"
    },
    "tags": []
   },
   "outputs": [],
   "source": [
    "# Rename the column\n",
    "df = df.rename(columns={\"Defaulted?\": \"Defaulted\"})"
   ]
  },
  {
   "cell_type": "code",
   "execution_count": 5,
   "id": "179ebf4e",
   "metadata": {
    "execution": {
     "iopub.execute_input": "2023-05-17T02:02:23.990089Z",
     "iopub.status.busy": "2023-05-17T02:02:23.989718Z",
     "iopub.status.idle": "2023-05-17T02:02:24.348934Z",
     "shell.execute_reply": "2023-05-17T02:02:24.347710Z"
    },
    "papermill": {
     "duration": 0.36959,
     "end_time": "2023-05-17T02:02:24.351384",
     "exception": false,
     "start_time": "2023-05-17T02:02:23.981794",
     "status": "completed"
    },
    "tags": []
   },
   "outputs": [
    {
     "name": "stdout",
     "output_type": "stream",
     "text": [
      "   Index  Employed  Bank Balance  Annual Salary  Defaulted\n",
      "0      1         1       8754.36     532339.560          0\n",
      "1      2         0       9806.16     161181.228          0\n",
      "2      3         1      12882.60     381205.680          0\n",
      "3      4         1       6351.00     428453.880          0\n",
      "4      5         1       9427.92     461562.000          0\n"
     ]
    }
   ],
   "source": [
    "import matplotlib.pyplot as plt\n",
    "import seaborn as sns\n",
    "\n",
    "# Examine the dataset\n",
    "print(df.head())  # Display the first few rows of the dataset"
   ]
  },
  {
   "cell_type": "code",
   "execution_count": 6,
   "id": "da555c2a",
   "metadata": {
    "execution": {
     "iopub.execute_input": "2023-05-17T02:02:24.366519Z",
     "iopub.status.busy": "2023-05-17T02:02:24.366078Z",
     "iopub.status.idle": "2023-05-17T02:02:24.387150Z",
     "shell.execute_reply": "2023-05-17T02:02:24.385890Z"
    },
    "papermill": {
     "duration": 0.03123,
     "end_time": "2023-05-17T02:02:24.389235",
     "exception": false,
     "start_time": "2023-05-17T02:02:24.358005",
     "status": "completed"
    },
    "tags": []
   },
   "outputs": [
    {
     "name": "stdout",
     "output_type": "stream",
     "text": [
      "<class 'pandas.core.frame.DataFrame'>\n",
      "RangeIndex: 10000 entries, 0 to 9999\n",
      "Data columns (total 5 columns):\n",
      " #   Column         Non-Null Count  Dtype  \n",
      "---  ------         --------------  -----  \n",
      " 0   Index          10000 non-null  int64  \n",
      " 1   Employed       10000 non-null  int64  \n",
      " 2   Bank Balance   10000 non-null  float64\n",
      " 3   Annual Salary  10000 non-null  float64\n",
      " 4   Defaulted      10000 non-null  int64  \n",
      "dtypes: float64(2), int64(3)\n",
      "memory usage: 390.8 KB\n",
      "None\n"
     ]
    }
   ],
   "source": [
    "print(df.info())  # Get information about the dataset, including data types and missing values"
   ]
  },
  {
   "cell_type": "code",
   "execution_count": 7,
   "id": "5be21e94",
   "metadata": {
    "execution": {
     "iopub.execute_input": "2023-05-17T02:02:24.404335Z",
     "iopub.status.busy": "2023-05-17T02:02:24.403900Z",
     "iopub.status.idle": "2023-05-17T02:02:24.429328Z",
     "shell.execute_reply": "2023-05-17T02:02:24.428092Z"
    },
    "papermill": {
     "duration": 0.035548,
     "end_time": "2023-05-17T02:02:24.431693",
     "exception": false,
     "start_time": "2023-05-17T02:02:24.396145",
     "status": "completed"
    },
    "tags": []
   },
   "outputs": [
    {
     "name": "stdout",
     "output_type": "stream",
     "text": [
      "             Index      Employed  Bank Balance  Annual Salary     Defaulted\n",
      "count  10000.00000  10000.000000  10000.000000   10000.000000  10000.000000\n",
      "mean    5000.50000      0.705600   9899.820996  400951.079556      0.033300\n",
      "std     2886.89568      0.455795   5535.448651  152529.907356      0.179428\n",
      "min        1.00000      0.000000      5.142000  161181.228000      0.000000\n",
      "25%     2500.75000      0.000000   5780.790000  256085.520000      0.000000\n",
      "50%     5000.50000      1.000000   9883.620000  414631.740000      0.000000\n",
      "75%     7500.25000      1.000000  13995.660000  525692.760000      0.000000\n",
      "max    10000.00000      1.000000  19991.496000  656134.650000      1.000000\n"
     ]
    }
   ],
   "source": [
    "print(df.describe())  # Statistical summary of numerical features"
   ]
  },
  {
   "cell_type": "markdown",
   "id": "0320f2ba",
   "metadata": {
    "papermill": {
     "duration": 0.006306,
     "end_time": "2023-05-17T02:02:24.444650",
     "exception": false,
     "start_time": "2023-05-17T02:02:24.438344",
     "status": "completed"
    },
    "tags": []
   },
   "source": [
    "# Data Exploration"
   ]
  },
  {
   "cell_type": "code",
   "execution_count": 8,
   "id": "cf47ffc4",
   "metadata": {
    "execution": {
     "iopub.execute_input": "2023-05-17T02:02:24.460534Z",
     "iopub.status.busy": "2023-05-17T02:02:24.459415Z",
     "iopub.status.idle": "2023-05-17T02:02:24.701663Z",
     "shell.execute_reply": "2023-05-17T02:02:24.700507Z"
    },
    "papermill": {
     "duration": 0.25296,
     "end_time": "2023-05-17T02:02:24.704219",
     "exception": false,
     "start_time": "2023-05-17T02:02:24.451259",
     "status": "completed"
    },
    "tags": []
   },
   "outputs": [
    {
     "data": {
      "image/png": "[encoded data removed]",
      "text/plain": [
       "<Figure size 432x288 with 1 Axes>"
      ]
     },
     "metadata": {
      "needs_background": "light"
     },
     "output_type": "display_data"
    }
   ],
   "source": [
    "# Explore the distribution of the target variable (Defaulted)\n",
    "sns.countplot(x=\"Defaulted\", data=df)\n",
    "plt.title(\"Distribution of Defaulted\")\n",
    "plt.show()"
   ]
  },
  {
   "cell_type": "code",
   "execution_count": 9,
   "id": "2c92038e",
   "metadata": {
    "execution": {
     "iopub.execute_input": "2023-05-17T02:02:24.720183Z",
     "iopub.status.busy": "2023-05-17T02:02:24.719538Z",
     "iopub.status.idle": "2023-05-17T02:02:24.976256Z",
     "shell.execute_reply": "2023-05-17T02:02:24.975343Z"
    },
    "papermill": {
     "duration": 0.267296,
     "end_time": "2023-05-17T02:02:24.978518",
     "exception": false,
     "start_time": "2023-05-17T02:02:24.711222",
     "status": "completed"
    },
    "tags": []
   },
   "outputs": [
    {
     "data": {
      "image/png": "[encoded data removed]",
      "text/plain": [
       "<Figure size 432x288 with 1 Axes>"
      ]
     },
     "metadata": {
      "needs_background": "light"
     },
     "output_type": "display_data"
    }
   ],
   "source": [
    "# Explore the relationship between features and the target variable\n",
    "sns.boxplot(x=\"Defaulted\", y=\"Bank Balance\", data=df)\n",
    "plt.title(\"Bank Balance vs. Defaulted\")\n",
    "plt.show()"
   ]
  },
  {
   "cell_type": "code",
   "execution_count": 10,
   "id": "c76e2763",
   "metadata": {
    "execution": {
     "iopub.execute_input": "2023-05-17T02:02:24.996048Z",
     "iopub.status.busy": "2023-05-17T02:02:24.995430Z",
     "iopub.status.idle": "2023-05-17T02:02:25.222816Z",
     "shell.execute_reply": "2023-05-17T02:02:25.221650Z"
    },
    "papermill": {
     "duration": 0.238856,
     "end_time": "2023-05-17T02:02:25.225114",
     "exception": false,
     "start_time": "2023-05-17T02:02:24.986258",
     "status": "completed"
    },
    "tags": []
   },
   "outputs": [
    {
     "data": {
      "image/png": "[encoded data removed]",
      "text/plain": [
       "<Figure size 432x288 with 1 Axes>"
      ]
     },
     "metadata": {
      "needs_background": "light"
     },
     "output_type": "display_data"
    }
   ],
   "source": [
    "sns.boxplot(x=\"Defaulted\", y=\"Annual Salary\", data=df)\n",
    "plt.title(\"Annual Salary vs. Defaulted\")\n",
    "plt.show()"
   ]
  },
  {
   "cell_type": "code",
   "execution_count": 11,
   "id": "16f749f9",
   "metadata": {
    "execution": {
     "iopub.execute_input": "2023-05-17T02:02:25.242813Z",
     "iopub.status.busy": "2023-05-17T02:02:25.242398Z",
     "iopub.status.idle": "2023-05-17T02:02:25.551423Z",
     "shell.execute_reply": "2023-05-17T02:02:25.550315Z"
    },
    "papermill": {
     "duration": 0.32107,
     "end_time": "2023-05-17T02:02:25.554076",
     "exception": false,
     "start_time": "2023-05-17T02:02:25.233006",
     "status": "completed"
    },
    "tags": []
   },
   "outputs": [
    {
     "data": {
      "image/png": "[encoded data removed]",
      "text/plain": [
       "<Figure size 432x288 with 1 Axes>"
      ]
     },
     "metadata": {
      "needs_background": "light"
     },
     "output_type": "display_data"
    }
   ],
   "source": [
    "sns.violinplot(x=\"Defaulted\", y=\"Employed\", data=df)\n",
    "plt.title(\"Employed vs. Defaulted\")\n",
    "plt.show()"
   ]
  },
  {
   "cell_type": "code",
   "execution_count": 12,
   "id": "cf967690",
   "metadata": {
    "execution": {
     "iopub.execute_input": "2023-05-17T02:02:25.573094Z",
     "iopub.status.busy": "2023-05-17T02:02:25.572689Z",
     "iopub.status.idle": "2023-05-17T02:02:25.857433Z",
     "shell.execute_reply": "2023-05-17T02:02:25.856228Z"
    },
    "papermill": {
     "duration": 0.297454,
     "end_time": "2023-05-17T02:02:25.860190",
     "exception": false,
     "start_time": "2023-05-17T02:02:25.562736",
     "status": "completed"
    },
    "tags": []
   },
   "outputs": [
    {
     "data": {
      "image/png": "[encoded data removed]",
      "text/plain": [
       "<Figure size 432x288 with 2 Axes>"
      ]
     },
     "metadata": {
      "needs_background": "light"
     },
     "output_type": "display_data"
    }
   ],
   "source": [
    "# Correlation heatmap of numerical features\n",
    "numerical_features = [\"Bank Balance\", \"Annual Salary\"]\n",
    "corr_matrix = df[numerical_features].corr()\n",
    "sns.heatmap(corr_matrix, annot=True, cmap=\"coolwarm\")\n",
    "plt.title(\"Correlation Heatmap of Numerical Features\")\n",
    "plt.show()"
   ]
  },
  {
   "cell_type": "markdown",
   "id": "b719590e",
   "metadata": {
    "papermill": {
     "duration": 0.008715,
     "end_time": "2023-05-17T02:02:25.878081",
     "exception": false,
     "start_time": "2023-05-17T02:02:25.869366",
     "status": "completed"
    },
    "tags": []
   },
   "source": [
    "# Feature Engineering"
   ]
  },
  {
   "cell_type": "code",
   "execution_count": 13,
   "id": "44f50ff5",
   "metadata": {
    "execution": {
     "iopub.execute_input": "2023-05-17T02:02:25.897839Z",
     "iopub.status.busy": "2023-05-17T02:02:25.897433Z",
     "iopub.status.idle": "2023-05-17T02:02:25.908732Z",
     "shell.execute_reply": "2023-05-17T02:02:25.907471Z"
    },
    "papermill": {
     "duration": 0.024229,
     "end_time": "2023-05-17T02:02:25.911217",
     "exception": false,
     "start_time": "2023-05-17T02:02:25.886988",
     "status": "completed"
    },
    "tags": []
   },
   "outputs": [
    {
     "name": "stdout",
     "output_type": "stream",
     "text": [
      "   Index  Employed  Bank Balance  Annual Salary  Defaulted  \\\n",
      "0      1         1       8754.36     532339.560          0   \n",
      "1      2         0       9806.16     161181.228          0   \n",
      "2      3         1      12882.60     381205.680          0   \n",
      "3      4         1       6351.00     428453.880          0   \n",
      "4      5         1       9427.92     461562.000          0   \n",
      "\n",
      "   Debt-to-Income Ratio  \n",
      "0              0.016445  \n",
      "1              0.060839  \n",
      "2              0.033794  \n",
      "3              0.014823  \n",
      "4              0.020426  \n"
     ]
    }
   ],
   "source": [
    "# Feature Engineering\n",
    "df[\"Debt-to-Income Ratio\"] = df[\"Bank Balance\"] / df[\"Annual Salary\"]\n",
    "\n",
    "# Verify the new feature\n",
    "print(df.head())"
   ]
  },
  {
   "cell_type": "markdown",
   "id": "91642ff0",
   "metadata": {
    "papermill": {
     "duration": 0.008717,
     "end_time": "2023-05-17T02:02:25.929193",
     "exception": false,
     "start_time": "2023-05-17T02:02:25.920476",
     "status": "completed"
    },
    "tags": []
   },
   "source": [
    "# Model Training and Selection"
   ]
  },
  {
   "cell_type": "code",
   "execution_count": 14,
   "id": "4229a3f8",
   "metadata": {
    "execution": {
     "iopub.execute_input": "2023-05-17T02:02:25.949545Z",
     "iopub.status.busy": "2023-05-17T02:02:25.948773Z",
     "iopub.status.idle": "2023-05-17T02:02:28.071873Z",
     "shell.execute_reply": "2023-05-17T02:02:28.070045Z"
    },
    "papermill": {
     "duration": 2.136227,
     "end_time": "2023-05-17T02:02:28.074532",
     "exception": false,
     "start_time": "2023-05-17T02:02:25.938305",
     "status": "completed"
    },
    "tags": []
   },
   "outputs": [
    {
     "name": "stdout",
     "output_type": "stream",
     "text": [
      "Metrics for Logistic Regression:\n",
      "Accuracy: 0.9655\n",
      "Precision: 0.0\n",
      "Recall: 0.0\n",
      "F1 Score: 0.0\n",
      "ROC AUC Score: 0.5\n",
      "\n",
      "Metrics for Decision Tree:\n",
      "Accuracy: 0.9555\n",
      "Precision: 0.32142857142857145\n",
      "Recall: 0.2608695652173913\n",
      "F1 Score: 0.28800000000000003\n",
      "ROC AUC Score: 0.6205953211897417\n",
      "\n",
      "Metrics for Random Forest:\n",
      "Accuracy: 0.9565\n",
      "Precision: 0.32\n",
      "Recall: 0.2318840579710145\n",
      "F1 Score: 0.2689075630252101\n",
      "ROC AUC Score: 0.6071383003474958\n",
      "\n",
      "Metrics for Gradient Boosting:\n",
      "Accuracy: 0.964\n",
      "Precision: 0.4117647058823529\n",
      "Recall: 0.10144927536231885\n",
      "F1 Score: 0.16279069767441862\n",
      "ROC AUC Score: 0.5481353057288031\n",
      "\n"
     ]
    }
   ],
   "source": [
    "from sklearn.model_selection import train_test_split\n",
    "from sklearn.linear_model import LogisticRegression\n",
    "from sklearn.tree import DecisionTreeClassifier\n",
    "from sklearn.ensemble import RandomForestClassifier, GradientBoostingClassifier\n",
    "from sklearn.metrics import accuracy_score, precision_score, recall_score, f1_score, roc_auc_score\n",
    "\n",
    "# Split the Data\n",
    "X_train, X_test, y_train, y_test = train_test_split(X, y, test_size=0.2, random_state=42)\n",
    "\n",
    "# Instantiate and Train Different Models\n",
    "models = {\n",
    "    \"Logistic Regression\": LogisticRegression(),\n",
    "    \"Decision Tree\": DecisionTreeClassifier(),\n",
    "    \"Random Forest\": RandomForestClassifier(),\n",
    "    \"Gradient Boosting\": GradientBoostingClassifier()\n",
    "}\n",
    "\n",
    "results = {}\n",
    "for model_name, model in models.items():\n",
    "    model.fit(X_train, y_train)\n",
    "    y_pred = model.predict(X_test)\n",
    "    \n",
    "    # Evaluate the Model\n",
    "    accuracy = accuracy_score(y_test, y_pred)\n",
    "    precision = precision_score(y_test, y_pred)\n",
    "    recall = recall_score(y_test, y_pred)\n",
    "    f1 = f1_score(y_test, y_pred)\n",
    "    roc_auc = roc_auc_score(y_test, y_pred)\n",
    "    \n",
    "    results[model_name] = {\n",
    "        \"Accuracy\": accuracy,\n",
    "        \"Precision\": precision,\n",
    "        \"Recall\": recall,\n",
    "        \"F1 Score\": f1,\n",
    "        \"ROC AUC Score\": roc_auc\n",
    "    }\n",
    "\n",
    "# Print the Results\n",
    "for model_name, metrics in results.items():\n",
    "    print(f\"Metrics for {model_name}:\")\n",
    "    for metric_name, value in metrics.items():\n",
    "        print(f\"{metric_name}: {value}\")\n",
    "    print()"
   ]
  },
  {
   "cell_type": "code",
   "execution_count": 15,
   "id": "83f05bb1",
   "metadata": {
    "execution": {
     "iopub.execute_input": "2023-05-17T02:02:28.095294Z",
     "iopub.status.busy": "2023-05-17T02:02:28.094888Z",
     "iopub.status.idle": "2023-05-17T02:02:28.129641Z",
     "shell.execute_reply": "2023-05-17T02:02:28.128214Z"
    },
    "papermill": {
     "duration": 0.048205,
     "end_time": "2023-05-17T02:02:28.132437",
     "exception": false,
     "start_time": "2023-05-17T02:02:28.084232",
     "status": "completed"
    },
    "tags": []
   },
   "outputs": [
    {
     "name": "stdout",
     "output_type": "stream",
     "text": [
      "Accuracy: 0.9655\n",
      "Precision: 0.0\n",
      "Recall: 0.0\n",
      "F1 Score: 0.0\n",
      "ROC AUC Score: 0.5\n"
     ]
    }
   ],
   "source": [
    "from sklearn.naive_bayes import GaussianNB\n",
    "\n",
    "# Instantiate and Train the Model\n",
    "model = GaussianNB()\n",
    "model.fit(X_train, y_train)\n",
    "\n",
    "# Make Predictions\n",
    "y_pred = model.predict(X_test)\n",
    "\n",
    "# Evaluate the Model\n",
    "accuracy = accuracy_score(y_test, y_pred)\n",
    "precision = precision_score(y_test, y_pred)\n",
    "recall = recall_score(y_test, y_pred)\n",
    "f1 = f1_score(y_test, y_pred)\n",
    "roc_auc = roc_auc_score(y_test, y_pred)\n",
    "\n",
    "# Print the Evaluation Metrics\n",
    "print(\"Accuracy:\", accuracy)\n",
    "print(\"Precision:\", precision)\n",
    "print(\"Recall:\", recall)\n",
    "print(\"F1 Score:\", f1)\n",
    "print(\"ROC AUC Score:\", roc_auc)\n"
   ]
  }
 ],
 "metadata": {
  "kernelspec": {
   "display_name": "Python 3 (ipykernel)",
   "language": "python",
   "name": "python3"
  },
  "language_info": {
   "codemirror_mode": {
    "name": "ipython",
    "version": 3
   },
   "file_extension": ".py",
   "mimetype": "text/x-python",
   "name": "python",
   "nbconvert_exporter": "python",
   "pygments_lexer": "ipython3",
   "version": "3.9.12"
  },
  "papermill": {
   "default_parameters": {},
   "duration": 19.117787,
   "end_time": "2023-05-17T02:02:29.164249",
   "environment_variables": {},
   "exception": null,
   "input_path": "__notebook__.ipynb",
   "output_path": "__notebook__.ipynb",
   "parameters": {},
   "start_time": "2023-05-17T02:02:10.046462",
   "version": "2.4.0"
  }
 },
 "nbformat": 4,
 "nbformat_minor": 5
}
